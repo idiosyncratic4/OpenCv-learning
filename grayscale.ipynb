import cv2
  
image = cv2.imread(r'C:\Users\dell\Downloads\Lena-Soederberg-256x256-JPEG-image-77-Kbytes.jpg')
gray = cv2.cvtColor(image, cv2.COLOR_BGR2GRAY)
  
cv2.imshow('Original image',image)
cv2.imshow('Gray image', gray)
  
cv2.waitKey(0)
cv2.destroyAllWindows()
